{
  "nbformat": 4,
  "nbformat_minor": 0,
  "metadata": {
    "colab": {
      "provenance": [],
      "authorship_tag": "ABX9TyNEim3F+HCqOoWKU+8QgvJR",
      "include_colab_link": true
    },
    "kernelspec": {
      "name": "python3",
      "display_name": "Python 3"
    },
    "language_info": {
      "name": "python"
    }
  },
  "cells": [
    {
      "cell_type": "markdown",
      "metadata": {
        "id": "view-in-github",
        "colab_type": "text"
      },
      "source": [
        "<a href=\"https://colab.research.google.com/github/nanavieira/psc/blob/main/Exerc%C3%ADcios_Python.ipynb\" target=\"_parent\"><img src=\"https://colab.research.google.com/assets/colab-badge.svg\" alt=\"Open In Colab\"/></a>"
      ]
    },
    {
      "cell_type": "markdown",
      "source": [
        "# **1#**"
      ],
      "metadata": {
        "id": "lLQK8qFazWbV"
      }
    },
    {
      "cell_type": "code",
      "execution_count": null,
      "metadata": {
        "colab": {
          "base_uri": "https://localhost:8080/"
        },
        "id": "rUsrb2Vwiaw3",
        "outputId": "3b033ca0-fe1e-4d8b-c1e8-04d086bb20e6"
      },
      "outputs": [
        {
          "name": "stdout",
          "output_type": "stream",
          "text": [
            "Informe seu nome: anna\n",
            "Informe sua idade: 19\n",
            "Informe seu peso: 61\n",
            "Informe sua altura: 1.69\n"
          ]
        }
      ],
      "source": [
        "nome = input('Informe seu nome: ')\n",
        "idade = int(input('Informe sua idade: '))\n",
        "peso = float(input('Informe seu peso: '))\n",
        "altura = float(input('Informe sua altura: '))"
      ]
    },
    {
      "cell_type": "code",
      "source": [
        "if idade > 18 and peso >= 60 and altura >= 1.70:\n",
        "  print('Você está apto para servir o exército')\n",
        "else:\n",
        "   print('Você não está apto para servir o exército')"
      ],
      "metadata": {
        "colab": {
          "base_uri": "https://localhost:8080/"
        },
        "id": "l8TmBXmFps2e",
        "outputId": "118c022f-61ca-43e9-846c-669f170c567c"
      },
      "execution_count": null,
      "outputs": [
        {
          "output_type": "stream",
          "name": "stdout",
          "text": [
            "Você não está apto para servir o exército\n"
          ]
        }
      ]
    },
    {
      "cell_type": "markdown",
      "source": [
        "# **2#**"
      ],
      "metadata": {
        "id": "Vgwt00JbzVO5"
      }
    },
    {
      "cell_type": "code",
      "source": [
        "texto = input(\"Digite uma frase: \")\n",
        "textox = texto.replace(' ', '') #tirar os espaços\n",
        "texto_inverso = texto [::-1]\n",
        "\n",
        "print(\"A frase escrita inversamente é: \",texto_inverso)"
      ],
      "metadata": {
        "colab": {
          "base_uri": "https://localhost:8080/"
        },
        "id": "J4T_OOrUzu-u",
        "outputId": "9f6a8bd2-1f3d-4cbd-d1b6-c29c347787c9"
      },
      "execution_count": null,
      "outputs": [
        {
          "output_type": "stream",
          "name": "stdout",
          "text": [
            "Digite uma frase: anotaram a data da maratona\n",
            "A frase escrita inversamente é:  anotaram ad atad a maratona\n"
          ]
        }
      ]
    },
    {
      "cell_type": "markdown",
      "source": [
        "# **3#**"
      ],
      "metadata": {
        "id": "ppOWBJzS1rTl"
      }
    },
    {
      "cell_type": "code",
      "source": [
        "dias = float(input(\"Digite quantos dias: \"))\n",
        "horas = float(input(\"Digite quantas horas: \"))\n",
        "minutos = float(input(\"Digite quantos minutos: \"))"
      ],
      "metadata": {
        "colab": {
          "base_uri": "https://localhost:8080/"
        },
        "id": "pljtILlE1s3o",
        "outputId": "5d029520-d287-4442-d5a8-727821a00fad"
      },
      "execution_count": null,
      "outputs": [
        {
          "name": "stdout",
          "output_type": "stream",
          "text": [
            "Digite quantos dias: 1\n",
            "Digite quantas horas: 1\n",
            "Digite quantos minutos: 1\n"
          ]
        }
      ]
    },
    {
      "cell_type": "code",
      "source": [
        "diasx = dias*86400\n",
        "horasx = horas*3600\n",
        "minutosx = minutos*60\n",
        "\n",
        "total = diasx + horasx + minutosx\n",
        "\n",
        "\n",
        "print(\"O total desse valor é igual a %1d segundos.\" % total)"
      ],
      "metadata": {
        "colab": {
          "base_uri": "https://localhost:8080/"
        },
        "id": "BnQe6K2_2Bmz",
        "outputId": "03180470-28f9-4339-a5ed-866cf79c186f"
      },
      "execution_count": null,
      "outputs": [
        {
          "output_type": "stream",
          "name": "stdout",
          "text": [
            "O total desse valor é igual a 90060 segundos.\n"
          ]
        }
      ]
    },
    {
      "cell_type": "markdown",
      "source": [
        "# **4#**"
      ],
      "metadata": {
        "id": "v-mPp-jw5Rwf"
      }
    },
    {
      "cell_type": "code",
      "source": [
        "distancia = int(input(\"Digite a distância do seu destino em km: \"))\n",
        "velocidade = int(input(\"Digite a velocidade média esperada para a viagem: \"))\n",
        "\n",
        "tempo = distancia/velocidade\n",
        "\n",
        "print(\"A viagem será realizada em\", tempo, \"horas\")"
      ],
      "metadata": {
        "id": "2yLXN4am6sz6",
        "colab": {
          "base_uri": "https://localhost:8080/"
        },
        "outputId": "ce6d0c62-1236-4ff7-90ff-5e201fcb7399"
      },
      "execution_count": null,
      "outputs": [
        {
          "output_type": "stream",
          "name": "stdout",
          "text": [
            "Digite a distância do seu destino em km: 50\n",
            "Digite a velocidade média esperada para a viagem: 30\n",
            "A viagem será realizada em 1.6666666666666667 horas\n"
          ]
        }
      ]
    },
    {
      "cell_type": "markdown",
      "source": [
        "# **5#**"
      ],
      "metadata": {
        "id": "--fvSOMPPiie"
      }
    },
    {
      "cell_type": "code",
      "source": [
        "velocidade = int(input(\"Insira o valor da velocidade do carro em km: \"))\n",
        "\n",
        "multa = (velocidade - 80) * 5\n",
        "\n",
        "if velocidade > 80:\n",
        "  print(\"O usuário foi multado. Valor da multa:\", multa)\n",
        "\n"
      ],
      "metadata": {
        "colab": {
          "base_uri": "https://localhost:8080/"
        },
        "id": "qDhk7NE_Pqgr",
        "outputId": "f7a866de-7287-4100-b98e-52fdf3a205d9"
      },
      "execution_count": null,
      "outputs": [
        {
          "output_type": "stream",
          "name": "stdout",
          "text": [
            "Insira o valor da velocidade do carro em km: 90\n",
            "O usuário foi multado. Valor da multa: 50\n"
          ]
        }
      ]
    },
    {
      "cell_type": "markdown",
      "source": [
        "# **6#**"
      ],
      "metadata": {
        "id": "PyyC912qNM65"
      }
    },
    {
      "cell_type": "code",
      "source": [
        "valor_casa = int(input(\"Insira o valor do imovel desejado: \"))\n",
        "salario = int(input(\"Insira o valor de seu salário: \"))\n",
        "anos = int(input(\"Digite a quantidade de anos a pagar: \"))\n",
        "\n",
        "prestaçao = valor_casa/(anos*12)\n",
        "print(\"O valor da prestação mensal é: \",prestaçao)\n",
        "\n",
        "if prestaçao < salario*0.03:\n",
        "  print(\"O empréstimo bancário foi aprovado!\")\n",
        "else: \n",
        "  print(\"O empréstimo bancário não foi aprovado.\")"
      ],
      "metadata": {
        "colab": {
          "base_uri": "https://localhost:8080/"
        },
        "id": "MKy6qexNNOyV",
        "outputId": "de2b538c-0f24-43d9-9596-4e25e19bc5be"
      },
      "execution_count": null,
      "outputs": [
        {
          "output_type": "stream",
          "name": "stdout",
          "text": [
            "Insira o valor do imovel desejado: 1000000\n",
            "Insira o valor de seu salário: 15000\n",
            "Digite a quantidade de anos a pagar: 10\n",
            "O valor da prestação mensal é:  8333.333333333334\n",
            "O empréstimo bancário não foi aprovado.\n"
          ]
        }
      ]
    },
    {
      "cell_type": "markdown",
      "source": [
        "# **7#**"
      ],
      "metadata": {
        "id": "ERbKbgiPRTTp"
      }
    },
    {
      "cell_type": "code",
      "source": [
        "num = int(input(\"Digite um número para ver sua tabuada: \"))\n",
        "\n",
        "\n",
        "print(\" Tabuada do \",num,\":\\n\") \n",
        "for i in range(1,11):\n",
        "  print(num,\" X \",i,\" = \",num*i, \"\\n\")\n"
      ],
      "metadata": {
        "colab": {
          "base_uri": "https://localhost:8080/"
        },
        "id": "A8-0kcUMRVkn",
        "outputId": "d1bb2bb9-234c-450d-d795-2251be449999"
      },
      "execution_count": null,
      "outputs": [
        {
          "output_type": "stream",
          "name": "stdout",
          "text": [
            "Digite um número para ver sua tabuada: 10\n",
            " Tabuada do  10 :\n",
            "\n",
            "10  X  1  =  10 \n",
            "\n",
            "10  X  2  =  20 \n",
            "\n",
            "10  X  3  =  30 \n",
            "\n",
            "10  X  4  =  40 \n",
            "\n",
            "10  X  5  =  50 \n",
            "\n",
            "10  X  6  =  60 \n",
            "\n",
            "10  X  7  =  70 \n",
            "\n",
            "10  X  8  =  80 \n",
            "\n",
            "10  X  9  =  90 \n",
            "\n",
            "10  X  10  =  100 \n",
            "\n"
          ]
        }
      ]
    },
    {
      "cell_type": "markdown",
      "source": [
        "# **8#**"
      ],
      "metadata": {
        "id": "ZV2WDGgFvz5y"
      }
    },
    {
      "cell_type": "code",
      "source": [
        "num_1 = int(input(\"Insira um número: \"))\n",
        "num_2 = int(input(\"Insira outro número: \"))\n",
        "\n",
        "quociente = 0\n",
        "x = num_1\n",
        "while x >= num_2:\n",
        "    x = x - num_2\n",
        "    quociente = quociente + 1\n",
        "resto = x\n",
        "\n",
        "print(f\"O resto de {num_1}/{num_2} é {resto}\")\n"
      ],
      "metadata": {
        "colab": {
          "base_uri": "https://localhost:8080/"
        },
        "id": "t03ztU7fv3H-",
        "outputId": "24b6e73d-1ab8-48f3-cf7f-2493b83d2a31"
      },
      "execution_count": null,
      "outputs": [
        {
          "output_type": "stream",
          "name": "stdout",
          "text": [
            "Insira um número: 10\n",
            "Insira outro número: 9\n",
            "O resto de 10/9 é 1\n"
          ]
        }
      ]
    },
    {
      "cell_type": "markdown",
      "source": [
        "# **9#**"
      ],
      "metadata": {
        "id": "AWonLcs2xjGe"
      }
    },
    {
      "cell_type": "code",
      "source": [
        "lado_1 = int(input('Insira o valor do lado de um triangulo: '))\n",
        "lado_2 = int(input('Insira o valor do lado de um triangulo: '))\n",
        "lado_3 = int(input('Insira o valor do lado de um triangulo: '))\n",
        "\n",
        "if lado_1==lado_2==lado_3:\n",
        "  print(\"O triangulo é equilátero.\")\n",
        "elif lado_1==lado_2 or lado_1==lado_3 or lado_2==lado_3:\n",
        "  print(\"O triangulo é isósceles.\")\n",
        "else: \n",
        "  print(\"O triangulo é escaleno.\")"
      ],
      "metadata": {
        "id": "Wp0TKZbQxlgC",
        "colab": {
          "base_uri": "https://localhost:8080/"
        },
        "outputId": "6f30c01b-53d7-4079-f570-a1f13e5de928"
      },
      "execution_count": null,
      "outputs": [
        {
          "output_type": "stream",
          "name": "stdout",
          "text": [
            "Insira o valor do lado de um triangulo: 10\n",
            "Insira o valor do lado de um triangulo: 20\n",
            "Insira o valor do lado de um triangulo: 30\n",
            "O triangulo é escaleno.\n"
          ]
        }
      ]
    },
    {
      "cell_type": "markdown",
      "source": [
        "# **10#**"
      ],
      "metadata": {
        "id": "NAsPiaU5S7La"
      }
    },
    {
      "cell_type": "code",
      "source": [
        "num = int(input(\"Insira um número inteiro: \"))\n",
        "invertido = int(str(num)[::-1])\n",
        "print(invertido)"
      ],
      "metadata": {
        "colab": {
          "base_uri": "https://localhost:8080/"
        },
        "id": "qQtEoR6kS9Bc",
        "outputId": "ad53a6bc-5530-4c64-a373-fb0210828d50"
      },
      "execution_count": null,
      "outputs": [
        {
          "output_type": "stream",
          "name": "stdout",
          "text": [
            "Insira um número inteiro: 125\n",
            "521\n"
          ]
        }
      ]
    },
    {
      "cell_type": "markdown",
      "source": [
        "# **11#**"
      ],
      "metadata": {
        "id": "QzlbG8WqTpyZ"
      }
    },
    {
      "cell_type": "code",
      "source": [
        "def Check_Vow(string, vowels): \n",
        "  final = [each for each in string if each in vowels]\n",
        "  print(len(final))\n",
        "  print(final)\n",
        "string = input(\"Insira uma palavra: \")\n",
        "vowels = \"AaEeIiOoUu\"\n",
        "Check_Vow(string, vowels);"
      ],
      "metadata": {
        "colab": {
          "base_uri": "https://localhost:8080/"
        },
        "id": "Wu96g6Khtoj9",
        "outputId": "5a0f76b3-35f1-48d7-e7e8-c0c7ae36bcf7"
      },
      "execution_count": 58,
      "outputs": [
        {
          "output_type": "stream",
          "name": "stdout",
          "text": [
            "Insira uma palavra: palavra\n",
            "3\n",
            "['a', 'a', 'a']\n"
          ]
        }
      ]
    },
    {
      "cell_type": "markdown",
      "source": [
        "# **12#**"
      ],
      "metadata": {
        "id": "ug3mMYJNV8W8"
      }
    },
    {
      "cell_type": "code",
      "source": [
        "import random\n",
        "from collections import Counter\n",
        "\n",
        "numeros = random.choices(range(11), k=10)\n",
        "print(f'Os numeros gerados foram: {numeros}')\n",
        "\n",
        "frequencias = Counter(numeros).most_common()\n",
        "mais_frequente = frequencias[0]\n",
        "print(f'O número que ocorre mais vezes é {mais_frequente[0]}, ocorrendo {mais_frequente[1]} vezes')\n"
      ],
      "metadata": {
        "colab": {
          "base_uri": "https://localhost:8080/"
        },
        "id": "fDI6x6XOpwAu",
        "outputId": "d7b321ab-5858-4665-91d7-1f3257d9d740"
      },
      "execution_count": 43,
      "outputs": [
        {
          "output_type": "stream",
          "name": "stdout",
          "text": [
            "Os numeros gerados foram: [2, 2, 6, 6, 10, 7, 7, 6, 0, 10]\n",
            "O número que ocorre mais vezes é 6, ocorrendo 3 vezes\n"
          ]
        }
      ]
    },
    {
      "cell_type": "markdown",
      "source": [
        "# **13#**"
      ],
      "metadata": {
        "id": "Nl7JwR5QV_Cg"
      }
    },
    {
      "cell_type": "code",
      "source": [
        "palavra = input(\"Digite uma palavra: \")\n",
        "\n",
        "inverso = palavra [::-1]\n",
        "\n",
        "print(\"A frase escrita inversamente é:\",inverso)\n",
        "if palavra == inverso:\n",
        "  print(\"A palavra\", palavra, \"é um palíndromo.\")\n",
        "else:\n",
        "  print(\"A palavra\", palavra, \"não  é um palíndromo.\")"
      ],
      "metadata": {
        "colab": {
          "base_uri": "https://localhost:8080/"
        },
        "id": "WQbhUffzp_fV",
        "outputId": "2e319920-19bb-4781-bca9-73b7cffc522d"
      },
      "execution_count": 46,
      "outputs": [
        {
          "output_type": "stream",
          "name": "stdout",
          "text": [
            "Digite uma palavra: ovo\n",
            "A frase escrita inversamente é: ovo\n",
            "A palavra ovo é um palíndromo.\n"
          ]
        }
      ]
    }
  ]
}